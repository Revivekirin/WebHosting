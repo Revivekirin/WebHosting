{
 "cells": [
  {
   "cell_type": "code",
   "execution_count": 2,
   "id": "a7bbbec8-8c2f-42c5-a8a8-4e4594fca35c",
   "metadata": {},
   "outputs": [],
   "source": [
    "from selenium import webdriver\n",
    "from selenium.webdriver.common.keys import Keys\n",
    "from selenium.webdriver.common.by import By\n",
    "from selenium.webdriver.support.ui import Select\n",
    "from selenium.webdriver.support.ui import WebDriverWait\n",
    "from selenium.webdriver.support import expected_conditions as EC\n",
    "from bs4 import BeautifulSoup\n",
    "import pyperclip\n",
    "import requests\n",
    "import time\n",
    "\n",
    "url = \"https://www.hybrid-analysis.com/\" # 하이브리드 주소\n",
    "driver = webdriver.Chrome()\n",
    "\n",
    "driver.get(url)"
   ]
  },
  {
   "cell_type": "code",
   "execution_count": 3,
   "metadata": {},
   "outputs": [],
   "source": [
    "## 로그인 기능\n",
    "\n",
    "#로그인 화면으로 이동\n",
    "login_link = driver.find_element(By.XPATH, '//*[@id=\"menu\"]/ul[2]/li/ul/li[10]/a') \n",
    "driver.execute_script(\"arguments[0].click();\", login_link)\n",
    "\n",
    "# 웹 페이지가 로드될 때까지 대기\n",
    "WebDriverWait(driver, 10).until(\n",
    "    EC.presence_of_element_located((By.XPATH, '//*[@id=\"login_email\"]'))\n",
    ")\n",
    "\n",
    "# 아이디(이메일) 입력\n",
    "id = driver.find_element(By.XPATH, '//*[@id=\"login_email\"]')\n",
    "id.click()\n",
    "pyperclip.copy('아이디(이메일)') # 계정 이메일\n",
    "id.send_keys(Keys.CONTROL, 'v')\n",
    "\n",
    "# pw 입력\n",
    "pw = driver.find_element(By.ID, 'login_password')\n",
    "pw.click()\n",
    "pyperclip.copy('비밀번호') # 계정 비밀번호\n",
    "pw.send_keys(Keys.CONTROL, 'v')\n",
    "\n",
    "# 로그인 버튼 클릭\n",
    "driver.find_element(By.XPATH, '//*[@id=\"login-form\"]/div[3]/button').click()\n",
    "\n",
    "# 로그인 후 어느 페이지로 이동하는지에 따라 코드 추가해야함."
   ]
  },
  {
   "cell_type": "code",
   "execution_count": 4,
   "id": "77c87092-c44e-40f3-9765-fd15af3da1e7",
   "metadata": {},
   "outputs": [],
   "source": [
    "# sandbox -> file 주소로 이동\n",
    "sandbox_link = driver.find_element(By.XPATH, '//*[@id=\"menu\"]/ul[1]/li[1]/ul/li[1]/a') \n",
    "driver.execute_script(\"arguments[0].click();\", sandbox_link)"
   ]
  },
  {
   "cell_type": "code",
   "execution_count": 200,
   "metadata": {},
   "outputs": [],
   "source": [
    "## ---> tbody 안에서 하나씩 가져오면 되니까 for문 돌리는게 좋을듯\n",
    "## 일단 첫 페이지\n",
    "\n",
    "\n",
    "# 테이블 저장\n",
    "table = driver.find_element(By.XPATH, '//*[@id=\"submissions-container\"]/div[6]/table')\n",
    "\n",
    "# table -> tbody\n",
    "tbody = table.find_element(By.TAG_NAME, 'tbody')\n",
    "\n",
    "# tr 하나씩 가져와서 다운로드\n",
    "for i in range(1, 51):\n",
    "    tr = driver.find_element(By.XPATH, f'//*[@id=\"submissions-container\"]/div[6]/table/tbody/tr[{i}]') # 악성코드 저장\n",
    "\n",
    "    # Threat level 체크\n",
    "    download_threat_level = ['malicious', 'ambiguous', 'suspicious'] # 악성코드 위험도 (일단 임의로 3개만 했습니다)\n",
    "    treat_level = driver.find_element(By.XPATH, f'//tr[{i}]/td[4]/dl/dd[3]').text # 각 악성코드의 위험도를 가져와서 비교\n",
    "\n",
    "    # Treat level 을 충족하면 다운로드\n",
    "    if treat_level in download_threat_level :\n",
    "        tr.click() # 링크로 이동\n",
    "\n",
    "        # 다운로드 링크가 없는 것도 있어서 일단 일케 구현해놨습니당 \n",
    "        try :\n",
    "            WebDriverWait(driver, 10).until(\n",
    "                EC.presence_of_element_located((By.XPATH, f'//*[@id=\"export-report-dropdown\"]/ul/li[1]/a'))\n",
    "            )\n",
    "            # driver.find_element(By.XPATH, '//*[@id=\"export-report-dropdown\"]/ul/li[1]/a').click() # 다운로드 \n",
    "            driver.back()\n",
    "        except:\n",
    "            driver.back()\n",
    "        \n"
   ]
  }
 ],
 "metadata": {
  "kernelspec": {
   "display_name": "Python 3 (ipykernel)",
   "language": "python",
   "name": "python3"
  },
  "language_info": {
   "codemirror_mode": {
    "name": "ipython",
    "version": 3
   },
   "file_extension": ".py",
   "mimetype": "text/x-python",
   "name": "python",
   "nbconvert_exporter": "python",
   "pygments_lexer": "ipython3",
   "version": "3.8.10"
  }
 },
 "nbformat": 4,
 "nbformat_minor": 5
}
